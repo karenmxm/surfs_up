{
 "cells": [
  {
   "cell_type": "code",
   "execution_count": null,
   "metadata": {},
   "outputs": [],
   "source": [
    "%matplotlib inline\n",
    "from matplotlib import style\n",
    "style.use('fivethirtyeight')\n",
    "import matplotlib.pyplot as plt"
   ]
  },
  {
   "cell_type": "code",
   "execution_count": null,
   "metadata": {},
   "outputs": [],
   "source": [
    "import numpy as np\n",
    "import pandas as pd"
   ]
  },
  {
   "cell_type": "code",
   "execution_count": null,
   "metadata": {},
   "outputs": [],
   "source": [
    "import datetime as dt"
   ]
  },
  {
   "cell_type": "markdown",
   "metadata": {},
   "source": [
    "# Reflect Tables into SQLAlchemy ORM"
   ]
  },
  {
   "cell_type": "code",
   "execution_count": null,
   "metadata": {},
   "outputs": [],
   "source": [
    "# Python SQL toolkit and Object Relational Mapper\n",
    "import sqlalchemy\n",
    "from sqlalchemy.ext.automap import automap_base\n",
    "from sqlalchemy.orm import Session\n",
    "from sqlalchemy import create_engine, func"
   ]
  },
  {
   "cell_type": "code",
   "execution_count": null,
   "metadata": {},
   "outputs": [],
   "source": [
    "##################################################\n",
    "# Databse Setup\n",
    "##################################################\n",
    "engine = create_engine(\"sqlite:///hawaii.sqlite\")"
   ]
  },
  {
   "cell_type": "code",
   "execution_count": null,
   "metadata": {},
   "outputs": [],
   "source": [
    "# reflect an existing database into a new model\n",
    "Base = automap_base()\n",
    "# reflect the tables\n",
    "Base.prepare(engine, reflect=True)"
   ]
  },
  {
   "cell_type": "code",
   "execution_count": null,
   "metadata": {},
   "outputs": [],
   "source": [
    "# We can view all of the classes that automap found\n",
    "Base.classes.keys()"
   ]
  },
  {
   "cell_type": "code",
   "execution_count": null,
   "metadata": {},
   "outputs": [],
   "source": [
    "# Save references to each table\n",
    "Measurement = Base.classes.measurement\n",
    "Station = Base.classes.station"
   ]
  },
  {
   "cell_type": "code",
   "execution_count": null,
   "metadata": {},
   "outputs": [],
   "source": [
    "# Create our session (link) from Python to the DB\n",
    "session = Session(engine)"
   ]
  },
  {
   "cell_type": "markdown",
   "metadata": {},
   "source": [
    "# Exploratory Climate Analysis"
   ]
  },
  {
   "cell_type": "code",
   "execution_count": null,
   "metadata": {},
   "outputs": [],
   "source": [
    "# Design a query to retrieve the last 12 months of precipitation data and plot the results. \n",
    "#Starting from the last data point in the database. \n",
    "prev_year = dt.date(2017, 8, 23)\n",
    "# Calculate the date one year from the last date in data set.\n",
    "prev_year = dt.date(2017, 8, 23) - dt.timedelta(days=365)\n",
    "# Perform a query to retrieve the data and precipitation scores\n",
    "results = session.query(Measurement.date, Measurement.prcp).filter(Measurement.date >= prev_year).all()\n",
    "print(results)\n",
    "# Save the query results as a Pandas DataFrame and set the index to the date column\n",
    "df = pd.DataFrame(results, columns=['date','precipitation'])\n",
    "df.set_index(df['date'], inplace=True)\n",
    "# Sort the dataframe by date\n",
    "df = df.sort_index()\n",
    "print(df.to_string(index=False))\n",
    "# Use Pandas Plotting with Matplotlib to plot the data\n",
    "df.plot()\n",
    "plt.xticks(rotation=90)\n",
    "plt.legend(loc=\"upper right\")"
   ]
  },
  {
   "cell_type": "code",
   "execution_count": null,
   "metadata": {},
   "outputs": [],
   "source": [
    "# Use Pandas to calcualte the summary statistics for the precipitation data\n",
    "df.describe()"
   ]
  },
  {
   "cell_type": "code",
   "execution_count": null,
   "metadata": {},
   "outputs": [],
   "source": [
    "# How many stations are available in this dataset?\n",
    "session.query(func.count(Station.station)).all()"
   ]
  },
  {
   "cell_type": "code",
   "execution_count": null,
   "metadata": {},
   "outputs": [],
   "source": [
    "# What are the most active stations?\n",
    "# List the stations and the counts in descending order.\n",
    "session.query(Measurement.station, func.count(Measurement.station)).\\\n",
    "group_by(Measurement.station).order_by(func.count(Measurement.station).desc()).all()"
   ]
  },
  {
   "cell_type": "code",
   "execution_count": null,
   "metadata": {},
   "outputs": [],
   "source": [
    "# Using the station id from the previous query, calculate the lowest temperature recorded, \n",
    "# highest temperature recorded, and average temperature most active station?\n",
    "session.query(func.min(Measurement.tobs), func.max(Measurement.tobs), func.avg(Measurement.tobs)).\\\n",
    "filter(Measurement.station == 'USC00519281').all()"
   ]
  },
  {
   "cell_type": "code",
   "execution_count": null,
   "metadata": {},
   "outputs": [],
   "source": [
    "# Choose the station with the highest number of temperature observations.\n",
    "# Query the last 12 months of temperature observation data for this station and plot the results as a histogram\n",
    "results = session.query(Measurement.tobs).\\\n",
    "filter(Measurement.station == 'USC00519281').\\\n",
    "filter(Measurement.date >= prev_year).all()\n",
    "# print(results)\n",
    "df = pd.DataFrame(results, columns=['tobs'])\n",
    "print(df)\n",
    "# Plot temperature\n",
    "df.plot.hist(bins=5)\n",
    "plt.tight_layout()"
   ]
  },
  {
   "cell_type": "code",
   "execution_count": null,
   "metadata": {},
   "outputs": [],
   "source": [
    "# Write a function called `calc_temps` that will accept start date and end date in the format '%Y-%m-%d' \n",
    "# and return the minimum, average, and maximum temperatures for that range of dates\n"
   ]
  },
  {
   "cell_type": "markdown",
   "metadata": {},
   "source": [
    "# Challenge"
   ]
  },
  {
   "cell_type": "code",
   "execution_count": null,
   "metadata": {},
   "outputs": [],
   "source": [
    "def monthly_stats(start, end):\n",
    "    \n",
    "    # start and end date\n",
    "    start = start\n",
    "    end = end\n",
    "\n",
    "    start_2016 = start - dt.timedelta(days=365)\n",
    "    end_2016 = end -dt.timedelta(days=365)\n",
    "\n",
    "    start_2015 = start_2016 - dt.timedelta(days=366)\n",
    "    end_2015 = end_2016 -dt.timedelta(days=366)\n",
    "\n",
    "    start_2014 = start_2015 - dt.timedelta(days=365)\n",
    "    end_2014 = end_2015 -dt.timedelta(days=365)\n",
    "\n",
    "    start_2013 = start_2014 - dt.timedelta(days=365)\n",
    "    end_2013 = end_2014 -dt.timedelta(days=365)\n",
    "\n",
    "    start_2012 = start_2013 - dt.timedelta(days=365)\n",
    "    end_2012 = end_2013 -dt.timedelta(days=365)\n",
    "\n",
    "    start_2011 = start_2012 - dt.timedelta(days=366)\n",
    "    end_2011 = end_2012 -dt.timedelta(days=366)\n",
    "\n",
    "    start_2010 = start_2011 - dt.timedelta(days=365)\n",
    "    end_2010 = end_2011 -dt.timedelta(days=365)\n",
    "\n",
    "\n",
    "    # Perform a query to retrieve the data and precipitation scores\n",
    "    results = session.query(Measurement.date, Measurement.prcp, Measurement.tobs).\\\n",
    "              filter(((Measurement.date >= start) & (Measurement.date <= end)) |\\\n",
    "                     ((Measurement.date >= start_2016) & (Measurement.date <= end_2016)) |\\\n",
    "                     ((Measurement.date >= start_2015) & (Measurement.date <= end_2015)) |\\\n",
    "                     ((Measurement.date >= start_2014) & (Measurement.date <= end_2014)) |\\\n",
    "                     ((Measurement.date >= start_2013) & (Measurement.date <= end_2013)) |\\\n",
    "                     ((Measurement.date >= start_2012) & (Measurement.date <= end_2012)) |\\\n",
    "                     ((Measurement.date >= start_2011) & (Measurement.date <= end_2011)) |\\\n",
    "                     ((Measurement.date >= start_2010) & (Measurement.date <= end_2010))).\\\n",
    "              all()\n",
    "\n",
    "    #print(results)\n",
    "\n",
    "    # Save the query results as a Pandas DataFrame and set the index to the date column\n",
    "    df = pd.DataFrame(results, columns=['date','precipitation','temperature'])\n",
    "    df\n",
    "    df.set_index(df['date'], inplace=True)\n",
    "    # Sort the dataframe by date\n",
    "    df = df.sort_index()\n",
    "    df_stats = df.describe()\n",
    "\n",
    "    return(df_stats)"
   ]
  },
  {
   "cell_type": "code",
   "execution_count": null,
   "metadata": {},
   "outputs": [],
   "source": [
    "# June Statistics\n",
    "start = dt.date(2017, 6, 1)\n",
    "end = dt.date(2017, 6, 30)\n",
    "monthly_stats(start, end)"
   ]
  },
  {
   "cell_type": "code",
   "execution_count": null,
   "metadata": {},
   "outputs": [],
   "source": [
    "# December Statistics\n",
    "start = dt.date(2017, 12, 1)\n",
    "end = dt.date(2017, 12, 31)\n",
    "monthly_stats(start, end)"
   ]
  }
 ],
 "metadata": {
  "kernelspec": {
   "display_name": "PythonData",
   "language": "python",
   "name": "pythondata"
  },
  "language_info": {
   "codemirror_mode": {
    "name": "ipython",
    "version": 3
   },
   "file_extension": ".py",
   "mimetype": "text/x-python",
   "name": "python",
   "nbconvert_exporter": "python",
   "pygments_lexer": "ipython3",
   "version": "3.7.7"
  }
 },
 "nbformat": 4,
 "nbformat_minor": 2
}
